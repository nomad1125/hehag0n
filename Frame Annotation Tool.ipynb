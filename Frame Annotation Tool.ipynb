{
 "cells": [
  {
   "cell_type": "code",
   "execution_count": 101,
   "metadata": {
    "scrolled": false
   },
   "outputs": [
    {
     "data": {
      "image/png": "[encoded data removed]",
      "text/plain": [
       "<matplotlib.figure.Figure at 0x7f0181883c50>"
      ]
     },
     "metadata": {},
     "output_type": "display_data"
    }
   ],
   "source": [
    "from IPython.display import display, clear_output\n",
    "\n",
    "import os\n",
    "import glob\n",
    "import numpy as np\n",
    "import skimage.io\n",
    "import ipywidgets as widgets\n",
    "\n",
    "from redis import StrictRedis\n",
    "\n",
    "import matplotlib.pyplot as plt\n",
    "%matplotlib inline\n",
    "\n",
    "\n",
    "CLASSIFIER_NAME = \"GAME_AREA\"\n",
    "\n",
    "redis_client = StrictRedis()\n",
    "\n",
    "files = os.scandir(\"datasets/collect_frames\")\n",
    "frame_uuid = None\n",
    "\n",
    "def next_frame():\n",
    "    clear_output(wait=True)\n",
    "    file = next(files)\n",
    "    \n",
    "    global frame_uuid\n",
    "    frame_uuid = file.name.split(\"_\")[1].replace(\".png\", \"\")\n",
    "\n",
    "    redis_key = f\"PROJECT_EC:{CLASSIFIER_NAME}:{frame_uuid.upper()}\"\n",
    "    if redis_client.get(redis_key) is not None:\n",
    "        return next_frame()\n",
    "\n",
    "    if file.is_file:\n",
    "        frame_image = skimage.io.imread(file.path)\n",
    "    \n",
    "        plt.figure()\n",
    "        plt.imshow(frame_image)\n",
    "    else:\n",
    "        return next_frame()\n",
    "\n",
    "def on_frame_submit(w):\n",
    "    value = w.value\n",
    "    \n",
    "    redis_key = f\"PROJECT_EC:{CLASSIFIER_NAME}:{frame_uuid.upper()}\"\n",
    "    redis_count_key = f\"PROJECT_EC:{CLASSIFIER_NAME}_COUNTS:{value.upper()}\"\n",
    "    \n",
    "    redis_client.set(redis_key, value)\n",
    "    \n",
    "    current_count = redis_client.get(redis_count_key)\n",
    "    \n",
    "    if current_count is None:\n",
    "        redis_client.set(redis_count_key, 1)\n",
    "    else:\n",
    "        current_count = int(current_count.decode(\"utf-8\"))\n",
    "        redis_client.set(redis_count_key, current_count + 1)\n",
    "    \n",
    "    w.value = \"\"\n",
    "    next_frame()\n",
    "    \n",
    "frame_widget = widgets.Text(\n",
    "    value=\"\",\n",
    "    placeholder=\"Enter the label for the frame you see...\",\n",
    "    description=\"\"\n",
    ")\n",
    "\n",
    "frame_widget.on_submit(on_frame_submit)\n",
    "\n",
    "display(frame_widget)\n",
    "\n",
    "next_frame()\n",
    "\n",
    "# LABELS\n",
    "# g = Game\n",
    "# l = Level Select\n",
    "# s = Splash Screen\n",
    "# d = Death Screen"
   ]
  },
  {
   "cell_type": "markdown",
   "metadata": {},
   "source": [
    "## Stats"
   ]
  },
  {
   "cell_type": "code",
   "execution_count": 12,
   "metadata": {},
   "outputs": [
    {
     "data": {
      "text/plain": [
       "214"
      ]
     },
     "execution_count": 12,
     "metadata": {},
     "output_type": "execute_result"
    }
   ],
   "source": [
    "total_samples = len(redis_client.keys(f\"PROJECT_EC:{CLASSIFIER_NAME}:*\"))\n",
    "total_samples"
   ]
  },
  {
   "cell_type": "code",
   "execution_count": 14,
   "metadata": {
    "scrolled": false
   },
   "outputs": [
    {
     "name": "stdout",
     "output_type": "stream",
     "text": [
      "[]\n",
      "\n",
      "TOP\n"
     ]
    }
   ],
   "source": [
    "count_keys = redis_client.keys(f\"PROJECT_EC:{CLASSIFIER_NAME}_COUNTS:*\")\n",
    "counts = list()\n",
    "\n",
    "for count_key in count_keys:\n",
    "    count_key = count_key.decode(\"utf-8\")\n",
    "    label = count_key.replace(f\"PROJECT_EC:{CLASSIFIER_NAME}_COUNTS:\", \"\")\n",
    "    count = int(redis_client.get(count_key).decode(\"utf-8\"))\n",
    "    \n",
    "    counts.append((label, count))\n",
    "\n",
    "sorted_top = sorted(counts, key=lambda c: c[1], reverse=True)\n",
    "\n",
    "print(\"\\nTOP\")\n",
    "for t in sorted_top:\n",
    "    print(f\"{t[0]}: {t[1]}\")"
   ]
  },
  {
   "cell_type": "code",
   "execution_count": null,
   "metadata": {
    "collapsed": true
   },
   "outputs": [],
   "source": []
  },
  {
   "cell_type": "code",
   "execution_count": 15,
   "metadata": {
    "scrolled": true
   },
   "outputs": [
    {
     "data": {
      "text/plain": [
       "[]"
      ]
     },
     "execution_count": 15,
     "metadata": {},
     "output_type": "execute_result"
    }
   ],
   "source": [
    "def generate_labels():\n",
    "    count_keys = redis_client.keys(f\"PROJECT_EC:{CLASSIFIER_NAME}_COUNTS:*\")\n",
    "    labels = list()\n",
    "    \n",
    "    for count_key in count_keys:\n",
    "        count_key = count_key.decode(\"utf-8\")\n",
    "        label = count_key.replace(f\"PROJECT_EC:{CLASSIFIER_NAME}_COUNTS:\", \"\")\n",
    "\n",
    "        labels.append(label) if len(label) < 2 else \"\"\n",
    "    \n",
    "    return sorted(labels)\n",
    "\n",
    "labels = generate_labels()\n",
    "labels"
   ]
  },
  {
   "cell_type": "code",
   "execution_count": 98,
   "metadata": {
    "collapsed": true
   },
   "outputs": [],
   "source": [
    "def generate_data_and_targets():\n",
    "    keys = redis_client.keys(f\"PROJECT_EC:{CLASSIFIER_NAME}:*\")\n",
    "    \n",
    "    data = list()\n",
    "    targets = list()\n",
    "    \n",
    "    for key in keys:\n",
    "        key = key.decode(\"utf-8\")\n",
    "        uuid = key.split(\":\")[-1].lower()\n",
    "        \n",
    "        try:\n",
    "            file_path = glob.glob(f\"datasets/collect_frames/frame_{uuid}*\")[0]\n",
    "        except IndexError:\n",
    "            continue\n",
    "        \n",
    "        frame = skimage.io.imread(file_path)\n",
    "        processed_frame = process_frame(frame)\n",
    "        \n",
    "        data.append(processed_frame.astype(np.bool).flatten())\n",
    "        \n",
    "        target = redis_client.get(key)        \n",
    "        targets.append(target.decode(\"utf-8\"))\n",
    "        \n",
    "    return (data, targets)\n",
    "    \n",
    "data, targets = generate_data_and_targets()"
   ]
  },
  {
   "cell_type": "code",
   "execution_count": null,
   "metadata": {
    "collapsed": true
   },
   "outputs": [],
   "source": []
  },
  {
   "cell_type": "code",
   "execution_count": 97,
   "metadata": {
    "collapsed": true
   },
   "outputs": [],
   "source": [
    "import matplotlib.pyplot as plt\n",
    "%matplotlib inline\n",
    "\n",
    "import skimage.io\n",
    "import skimage.transform\n",
    "\n",
    "from skimage.filters import threshold_local\n",
    "from skimage.color import rgb2gray\n",
    "\n",
    "def process_frame(frame):\n",
    "    gray_frame = rgb2gray(frame)\n",
    "    \n",
    "    threshold = threshold_local(gray_frame, 21)\n",
    "    bw_frame = gray_frame > threshold\n",
    "    \n",
    "    return skimage.transform.resize(bw_frame, (30, 48), mode=\"reflect\", order=0)"
   ]
  },
  {
   "cell_type": "code",
   "execution_count": null,
   "metadata": {
    "collapsed": true
   },
   "outputs": [],
   "source": []
  },
  {
   "cell_type": "code",
   "execution_count": 99,
   "metadata": {},
   "outputs": [
    {
     "data": {
      "text/plain": [
       "SVC(C=100, cache_size=200, class_weight=None, coef0=0.0,\n",
       "  decision_function_shape=None, degree=3, gamma=0.001, kernel='rbf',\n",
       "  max_iter=-1, probability=False, random_state=None, shrinking=True,\n",
       "  tol=0.001, verbose=False)"
      ]
     },
     "execution_count": 99,
     "metadata": {},
     "output_type": "execute_result"
    }
   ],
   "source": [
    "from sklearn import svm\n",
    "classifier = svm.SVC(gamma=0.001, C=100)\n",
    "\n",
    "classifier.fit(data[:-10], targets[:-10])"
   ]
  },
  {
   "cell_type": "code",
   "execution_count": 100,
   "metadata": {
    "collapsed": true
   },
   "outputs": [],
   "source": [
    "import pickle\n",
    "\n",
    "serialized_classifier = pickle.dumps(classifier)\n",
    "\n",
    "with open(\"datasets/super_hexagon_context.model\", \"wb\") as f:\n",
    "    f.write(serialized_classifier)"
   ]
  },
  {
   "cell_type": "code",
   "execution_count": null,
   "metadata": {
    "collapsed": true
   },
   "outputs": [],
   "source": []
  },
  {
   "cell_type": "code",
   "execution_count": 91,
   "metadata": {},
   "outputs": [
    {
     "data": {
      "text/plain": [
       "<matplotlib.image.AxesImage at 0x7f0181b54668>"
      ]
     },
     "execution_count": 91,
     "metadata": {},
     "output_type": "execute_result"
    },
    {
     "data": {
      "image/png": "[encoded data removed]",
      "text/plain": [
       "<matplotlib.figure.Figure at 0x7f0181e32160>"
      ]
     },
     "metadata": {},
     "output_type": "display_data"
    }
   ],
   "source": [
    "frame = data[-6].reshape(30, 48)\n",
    "skimage.io.imshow(frame)"
   ]
  },
  {
   "cell_type": "code",
   "execution_count": 95,
   "metadata": {},
   "outputs": [
    {
     "data": {
      "text/plain": [
       "'1'"
      ]
     },
     "execution_count": 95,
     "metadata": {},
     "output_type": "execute_result"
    }
   ],
   "source": [
    "classifier.predict([data[-6]])[0]"
   ]
  },
  {
   "cell_type": "code",
   "execution_count": null,
   "metadata": {
    "collapsed": true
   },
   "outputs": [],
   "source": []
  },
  {
   "cell_type": "code",
   "execution_count": null,
   "metadata": {
    "collapsed": true
   },
   "outputs": [],
   "source": []
  }
 ],
 "metadata": {
  "kernelspec": {
   "display_name": "Python 3",
   "language": "python",
   "name": "python3"
  },
  "language_info": {
   "codemirror_mode": {
    "name": "ipython",
    "version": 3
   },
   "file_extension": ".py",
   "mimetype": "text/x-python",
   "name": "python",
   "nbconvert_exporter": "python",
   "pygments_lexer": "ipython3",
   "version": "3.6.0"
  }
 },
 "nbformat": 4,
 "nbformat_minor": 1
}
