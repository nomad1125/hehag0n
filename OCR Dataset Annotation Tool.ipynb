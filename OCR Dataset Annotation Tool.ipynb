{
 "cells": [
  {
   "cell_type": "code",
   "execution_count": 13,
   "metadata": {},
   "outputs": [
    {
     "data": {
      "image/png": "[encoded data removed]",
      "text/plain": [
       "<matplotlib.figure.Figure at 0x7fca89bb44e0>"
      ]
     },
     "metadata": {},
     "output_type": "display_data"
    },
    {
     "data": {
      "image/png": "[encoded data removed]",
      "text/plain": [
       "<matplotlib.figure.Figure at 0x7fca89e9dcf8>"
      ]
     },
     "metadata": {},
     "output_type": "display_data"
    }
   ],
   "source": [
    "from IPython.display import display, clear_output\n",
    "\n",
    "import os\n",
    "import glob\n",
    "import numpy as np\n",
    "import skimage.io\n",
    "import ipywidgets as widgets\n",
    "\n",
    "from redis import StrictRedis\n",
    "\n",
    "import matplotlib.pyplot as plt\n",
    "import matplotlib.patches as mpatches\n",
    "\n",
    "%matplotlib inline\n",
    "\n",
    "\n",
    "redis_client = StrictRedis()\n",
    "\n",
    "files = os.scandir(\"datasets/ocr/characters\")\n",
    "char_uuid = None\n",
    "\n",
    "\n",
    "def next_character():\n",
    "    clear_output(wait=True)\n",
    "    file = next(files)\n",
    "    \n",
    "    global char_uuid\n",
    "    char_uuid = file.name.split(\"_\")[1]\n",
    "    \n",
    "    frame_uuid = file.name.split(\"_\")[3]\n",
    "    char_bounding_box = file.name.split(\"_\")[4].replace(\".png\", \"\").split(\"-\")\n",
    "    char_bounding_box = [int(cbb) for cbb in char_bounding_box]\n",
    "    \n",
    "    redis_key = f\"PROJECT_EC:CHAR:{char_uuid.upper()}\"\n",
    "    if redis_client.get(redis_key) is not None:\n",
    "        return next_character()\n",
    "\n",
    "    if file.is_file:\n",
    "        char_image = skimage.io.imread(file.path)\n",
    "    \n",
    "        plt.figure()\n",
    "        plt.imshow(char_image, cmap=\"gray\")\n",
    "        \n",
    "        frame_image = skimage.io.imread(f\"datasets/ocr/frames/frame_{frame_uuid}.png\")\n",
    "\n",
    "        fig, ax = plt.subplots(figsize=(10, 6))\n",
    "        ax.imshow(frame_image)\n",
    "\n",
    "        y0, x0, y1, x1 = char_bounding_box\n",
    "        rect = mpatches.Rectangle(\n",
    "            (x0 - 2, y0 - 2), (x1 + 2) - (x0 -2), (y1 + 2) - (y0 - 2),\n",
    "            fill=False, \n",
    "            edgecolor='red', \n",
    "            linewidth=2\n",
    "        )\n",
    "        \n",
    "        ax.add_patch(rect)\n",
    "        ax.set_axis_off()\n",
    "        \n",
    "        plt.tight_layout()\n",
    "        plt.show()\n",
    "    else:\n",
    "        return next_character()\n",
    "    \n",
    "    \n",
    "def on_character_submit(w):\n",
    "    character = w.value\n",
    "    \n",
    "    redis_key = f\"PROJECT_EC:CHAR:{char_uuid.upper()}\"\n",
    "    redis_count_key = f\"PROJECT_EC:CHAR_COUNTS:{character.upper()}\"\n",
    "    \n",
    "    redis_client.set(redis_key, character)\n",
    "    \n",
    "    current_count = redis_client.get(redis_count_key)\n",
    "    \n",
    "    if current_count is None:\n",
    "        redis_client.set(redis_count_key, 1)\n",
    "    else:\n",
    "        current_count = int(current_count.decode(\"utf-8\"))\n",
    "        redis_client.set(redis_count_key, current_count + 1)\n",
    "    \n",
    "    w.value = \"\"\n",
    "    next_character()\n",
    "    \n",
    "character_widget = widgets.Text(\n",
    "    value=\"\",\n",
    "    placeholder=\"Enter the character you see...\",\n",
    "    description=\"\"\n",
    ")\n",
    "\n",
    "character_widget.on_submit(on_character_submit)\n",
    "\n",
    "display(character_widget)\n",
    "\n",
    "next_character()"
   ]
  },
  {
   "cell_type": "markdown",
   "metadata": {},
   "source": [
    "## Stats"
   ]
  },
  {
   "cell_type": "code",
   "execution_count": 14,
   "metadata": {},
   "outputs": [
    {
     "data": {
      "text/plain": [
       "584"
      ]
     },
     "execution_count": 14,
     "metadata": {},
     "output_type": "execute_result"
    }
   ],
   "source": [
    "total_samples = len(redis_client.keys(\"PROJECT_EC:CHAR:*\"))\n",
    "total_samples"
   ]
  },
  {
   "cell_type": "code",
   "execution_count": 15,
   "metadata": {
    "scrolled": false
   },
   "outputs": [
    {
     "name": "stdout",
     "output_type": "stream",
     "text": [
      "ALPHABETICAL\n",
      ": 3\n",
      "': 1\n",
      "*: 1\n",
      "-: 3\n",
      "0: 5\n",
      "1: 23\n",
      "2: 4\n",
      "3: 14\n",
      "4: 17\n",
      "4A: 1\n",
      "5: 37\n",
      "6: 30\n",
      "7: 9\n",
      "8: 38\n",
      "9: 11\n",
      ":: 16\n",
      "A: 27\n",
      "B: 10\n",
      "C: 14\n",
      "D: 17\n",
      "E: 34\n",
      "F: 4\n",
      "G: 14\n",
      "H: 12\n",
      "I: 28\n",
      "J: 2\n",
      "K: 4\n",
      "L: 14\n",
      "M: 10\n",
      "N: 19\n",
      "O: 25\n",
      "P: 15\n",
      "R: 36\n",
      "S: 34\n",
      "T: 22\n",
      "U: 18\n",
      "V: 2\n",
      "W: 7\n",
      "X: 2\n",
      "Y: 1\n",
      "\n",
      "TOP\n",
      "8: 38\n",
      "5: 37\n",
      "R: 36\n",
      "E: 34\n",
      "S: 34\n",
      "6: 30\n",
      "I: 28\n",
      "A: 27\n",
      "O: 25\n",
      "1: 23\n",
      "T: 22\n",
      "N: 19\n",
      "U: 18\n",
      "4: 17\n",
      "D: 17\n",
      ":: 16\n",
      "P: 15\n",
      "L: 14\n",
      "3: 14\n",
      "G: 14\n",
      "C: 14\n",
      "H: 12\n",
      "9: 11\n",
      "M: 10\n",
      "B: 10\n",
      "7: 9\n",
      "W: 7\n",
      "0: 5\n",
      "F: 4\n",
      "K: 4\n",
      "2: 4\n",
      ": 3\n",
      "-: 3\n",
      "V: 2\n",
      "J: 2\n",
      "X: 2\n",
      "*: 1\n",
      "4A: 1\n",
      "Y: 1\n",
      "': 1\n"
     ]
    }
   ],
   "source": [
    "character_count_keys = redis_client.keys(\"PROJECT_EC:CHAR_COUNTS*\")\n",
    "character_counts = list()\n",
    "\n",
    "for character_count_key in character_count_keys:\n",
    "    character_count_key = character_count_key.decode(\"utf-8\")\n",
    "    character = character_count_key.replace(\"PROJECT_EC:CHAR_COUNTS:\", \"\")\n",
    "    count = int(redis_client.get(character_count_key).decode(\"utf-8\"))\n",
    "    \n",
    "    character_counts.append((character, count))\n",
    "    \n",
    "character_counts\n",
    "\n",
    "sorted_alpha = sorted(character_counts, key=lambda cc: cc[0])\n",
    "sorted_top = sorted(character_counts, key=lambda cc: cc[1], reverse=True)\n",
    "\n",
    "print(\"ALPHABETICAL\")\n",
    "for t in sorted_alpha:\n",
    "    print(f\"{t[0]}: {t[1]}\")\n",
    "\n",
    "print(\"\\nTOP\")\n",
    "for t in sorted_top:\n",
    "    print(f\"{t[0]}: {t[1]}\")"
   ]
  },
  {
   "cell_type": "code",
   "execution_count": null,
   "metadata": {
    "collapsed": true
   },
   "outputs": [],
   "source": []
  },
  {
   "cell_type": "code",
   "execution_count": 17,
   "metadata": {
    "scrolled": true
   },
   "outputs": [
    {
     "data": {
      "text/plain": [
       "['',\n",
       " \"'\",\n",
       " '*',\n",
       " '-',\n",
       " '0',\n",
       " '1',\n",
       " '2',\n",
       " '3',\n",
       " '4',\n",
       " '5',\n",
       " '6',\n",
       " '7',\n",
       " '8',\n",
       " '9',\n",
       " ':',\n",
       " 'A',\n",
       " 'B',\n",
       " 'C',\n",
       " 'D',\n",
       " 'E',\n",
       " 'F',\n",
       " 'G',\n",
       " 'H',\n",
       " 'I',\n",
       " 'J',\n",
       " 'K',\n",
       " 'L',\n",
       " 'M',\n",
       " 'N',\n",
       " 'O',\n",
       " 'P',\n",
       " 'R',\n",
       " 'S',\n",
       " 'T',\n",
       " 'U',\n",
       " 'V',\n",
       " 'W',\n",
       " 'X',\n",
       " 'Y']"
      ]
     },
     "execution_count": 17,
     "metadata": {},
     "output_type": "execute_result"
    }
   ],
   "source": [
    "def generate_labels():\n",
    "    character_count_keys = redis_client.keys(\"PROJECT_EC:CHAR_COUNTS*\")\n",
    "    labels = list()\n",
    "    \n",
    "    for character_count_key in character_count_keys:\n",
    "        character_count_key = character_count_key.decode(\"utf-8\")\n",
    "        character = character_count_key.replace(\"PROJECT_EC:CHAR_COUNTS:\", \"\")\n",
    "\n",
    "        labels.append(character) if len(character) < 2 else \"\"\n",
    "        \n",
    "    return sorted(labels)\n",
    "\n",
    "labels = generate_labels()\n",
    "labels"
   ]
  },
  {
   "cell_type": "code",
   "execution_count": 18,
   "metadata": {
    "collapsed": true
   },
   "outputs": [],
   "source": [
    "def generate_data_and_targets():\n",
    "    character_keys = redis_client.keys(\"PROJECT_EC:CHAR:*\")\n",
    "    \n",
    "    data = list()\n",
    "    targets = list()\n",
    "    \n",
    "    for character_key in character_keys:\n",
    "        character_key = character_key.decode(\"utf-8\")\n",
    "        character_uuid = character_key.split(\":\")[-1].lower()\n",
    "        \n",
    "        character_file_path = glob.glob(f\"datasets/ocr/characters/char_{character_uuid}*\")[0]\n",
    "        \n",
    "        character_image = skimage.io.imread(character_file_path, as_grey=True)\n",
    "        data.append(character_image.astype(np.bool).flatten())\n",
    "        \n",
    "        target = redis_client.get(character_key)        \n",
    "        targets.append(target.decode(\"utf-8\"))\n",
    "        \n",
    "    return (data, targets)\n",
    "    \n",
    "data, targets = generate_data_and_targets()"
   ]
  },
  {
   "cell_type": "code",
   "execution_count": 19,
   "metadata": {},
   "outputs": [
    {
     "data": {
      "text/plain": [
       "SVC(C=100.0, cache_size=200, class_weight=None, coef0=0.0,\n",
       "  decision_function_shape=None, degree=3, gamma=0.001, kernel='rbf',\n",
       "  max_iter=-1, probability=False, random_state=None, shrinking=True,\n",
       "  tol=0.001, verbose=False)"
      ]
     },
     "execution_count": 19,
     "metadata": {},
     "output_type": "execute_result"
    }
   ],
   "source": [
    "from sklearn import svm\n",
    "classifier = svm.SVC(gamma=0.001, C=100.)\n",
    "\n",
    "classifier.fit(data[:], targets[:])"
   ]
  },
  {
   "cell_type": "code",
   "execution_count": 20,
   "metadata": {
    "collapsed": true
   },
   "outputs": [],
   "source": [
    "import pickle\n",
    "\n",
    "serialized_classifier = pickle.dumps(classifier)\n",
    "\n",
    "with open(\"datasets/ocr/super_hexagon_ocr.model\", \"wb\") as f:\n",
    "    f.write(serialized_classifier)"
   ]
  },
  {
   "cell_type": "code",
   "execution_count": null,
   "metadata": {
    "collapsed": true
   },
   "outputs": [],
   "source": []
  },
  {
   "cell_type": "code",
   "execution_count": null,
   "metadata": {
    "collapsed": true
   },
   "outputs": [],
   "source": []
  },
  {
   "cell_type": "code",
   "execution_count": null,
   "metadata": {
    "collapsed": true
   },
   "outputs": [],
   "source": []
  },
  {
   "cell_type": "code",
   "execution_count": null,
   "metadata": {
    "collapsed": true
   },
   "outputs": [],
   "source": []
  },
  {
   "cell_type": "code",
   "execution_count": null,
   "metadata": {
    "collapsed": true
   },
   "outputs": [],
   "source": []
  }
 ],
 "metadata": {
  "kernelspec": {
   "display_name": "Python 3",
   "language": "python",
   "name": "python3"
  },
  "language_info": {
   "codemirror_mode": {
    "name": "ipython",
    "version": 3
   },
   "file_extension": ".py",
   "mimetype": "text/x-python",
   "name": "python",
   "nbconvert_exporter": "python",
   "pygments_lexer": "ipython3",
   "version": "3.6.0"
  }
 },
 "nbformat": 4,
 "nbformat_minor": 1
}
