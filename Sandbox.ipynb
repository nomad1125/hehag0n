{
 "cells": [
  {
   "cell_type": "code",
   "execution_count": 37,
   "metadata": {
    "collapsed": true
   },
   "outputs": [],
   "source": [
    "import skimage.io\n",
    "import sklearn.cluster\n",
    "\n",
    "import lib.ocr\n",
    "\n",
    "import matplotlib.pyplot as plt\n",
    "%matplotlib inline"
   ]
  },
  {
   "cell_type": "code",
   "execution_count": 38,
   "metadata": {},
   "outputs": [
    {
     "data": {
      "text/plain": [
       "<matplotlib.image.AxesImage at 0x7f17ecf3ca90>"
      ]
     },
     "execution_count": 38,
     "metadata": {},
     "output_type": "execute_result"
    },
    {
     "data": {
      "image/png": "[encoded data removed]",
      "text/plain": [
       "<matplotlib.figure.Figure at 0x7f17ee0c7080>"
      ]
     },
     "metadata": {},
     "output_type": "display_data"
    }
   ],
   "source": [
    "frame = skimage.io.imread(\"datasets/frame_splash.png\")\n",
    "skimage.io.imshow(frame)"
   ]
  },
  {
   "cell_type": "code",
   "execution_count": 39,
   "metadata": {},
   "outputs": [
    {
     "data": {
      "text/plain": [
       "<matplotlib.image.AxesImage at 0x7f17ececdd30>"
      ]
     },
     "execution_count": 39,
     "metadata": {},
     "output_type": "execute_result"
    },
    {
     "data": {
      "image/png": "[encoded data removed]",
      "text/plain": [
       "<matplotlib.figure.Figure at 0x7f17ecf59470>"
      ]
     },
     "metadata": {},
     "output_type": "display_data"
    }
   ],
   "source": [
    "preprocessed_frame = lib.ocr.preprocess_image(frame, mode=\"PRECISE\")\n",
    "skimage.io.imshow(preprocessed_frame)"
   ]
  },
  {
   "cell_type": "code",
   "execution_count": 40,
   "metadata": {},
   "outputs": [
    {
     "name": "stdout",
     "output_type": "stream",
     "text": [
      "CPU times: user 3.33 ms, sys: 0 ns, total: 3.33 ms\n",
      "Wall time: 547 µs\n"
     ]
    },
    {
     "ename": "NameError",
     "evalue": "name 'mpatches' is not defined",
     "output_type": "error",
     "traceback": [
      "\u001b[0;31m-------------------------------------\u001b[0m",
      "\u001b[0;31mNameError\u001b[0mTraceback (most recent call last)",
      "\u001b[0;32m<ipython-input-40-6e72fa2d41c0>\u001b[0m in \u001b[0;36m<module>\u001b[0;34m()\u001b[0m\n\u001b[1;32m     14\u001b[0m \u001b[0;32mfor\u001b[0m \u001b[0mregion_bbox\u001b[0m \u001b[0;32min\u001b[0m \u001b[0mdata\u001b[0m\u001b[0;34m[\u001b[0m\u001b[0;34m\"word\"\u001b[0m\u001b[0;34m]\u001b[0m\u001b[0;34m[\u001b[0m\u001b[0;34m\"bounding_boxes\"\u001b[0m\u001b[0;34m]\u001b[0m\u001b[0;34m:\u001b[0m\u001b[0;34m\u001b[0m\u001b[0m\n\u001b[1;32m     15\u001b[0m     \u001b[0mminr\u001b[0m\u001b[0;34m,\u001b[0m \u001b[0mminc\u001b[0m\u001b[0;34m,\u001b[0m \u001b[0mmaxr\u001b[0m\u001b[0;34m,\u001b[0m \u001b[0mmaxc\u001b[0m \u001b[0;34m=\u001b[0m \u001b[0mregion_bbox\u001b[0m\u001b[0;34m\u001b[0m\u001b[0m\n\u001b[0;32m---> 16\u001b[0;31m     rect = mpatches.Rectangle((minc, minr), maxc - minc, maxr - minr,\n\u001b[0m\u001b[1;32m     17\u001b[0m                               fill=False, edgecolor='red', linewidth=2)\n\u001b[1;32m     18\u001b[0m     \u001b[0max\u001b[0m\u001b[0;34m.\u001b[0m\u001b[0madd_patch\u001b[0m\u001b[0;34m(\u001b[0m\u001b[0mrect\u001b[0m\u001b[0;34m)\u001b[0m\u001b[0;34m\u001b[0m\u001b[0m\n",
      "\u001b[0;31mNameError\u001b[0m: name 'mpatches' is not defined"
     ]
    },
    {
     "data": {
      "image/png": "[encoded data removed]",
      "text/plain": [
       "<matplotlib.figure.Figure at 0x7f17fc559780>"
      ]
     },
     "metadata": {},
     "output_type": "display_data"
    }
   ],
   "source": [
    "%time\n",
    "data = lib.ocr.extract_character_and_word_data(\n",
    "    frame, \n",
    "    word_window_shape=\"rectangle\", \n",
    "    word_window_size=(1, 1),\n",
    "    preprocess_mode=\"PRECISE\"\n",
    ")\n",
    "\n",
    "data[\"word\"][\"bounding_boxes\"]\n",
    "\n",
    "fig, ax = plt.subplots(figsize=(10, 6))\n",
    "ax.imshow(frame)\n",
    "\n",
    "for region_bbox in data[\"word\"][\"bounding_boxes\"]:\n",
    "    minr, minc, maxr, maxc = region_bbox\n",
    "    rect = mpatches.Rectangle((minc, minr), maxc - minc, maxr - minr,\n",
    "                              fill=False, edgecolor='red', linewidth=2)\n",
    "    ax.add_patch(rect)\n",
    "\n",
    "ax.set_axis_off()\n",
    "plt.tight_layout()\n",
    "plt.show()"
   ]
  },
  {
   "cell_type": "code",
   "execution_count": 51,
   "metadata": {
    "scrolled": false
   },
   "outputs": [
    {
     "ename": "NameError",
     "evalue": "name 'preprocessed_frame' is not defined",
     "output_type": "error",
     "traceback": [
      "\u001b[0;31m-------------------------------------\u001b[0m",
      "\u001b[0;31mNameError\u001b[0mTraceback (most recent call last)",
      "\u001b[0;32m<ipython-input-51-b3ff66ab0084>\u001b[0m in \u001b[0;36m<module>\u001b[0;34m()\u001b[0m\n\u001b[1;32m      8\u001b[0m \u001b[0;32mfrom\u001b[0m \u001b[0mskimage\u001b[0m\u001b[0;34m.\u001b[0m\u001b[0mcolor\u001b[0m \u001b[0;32mimport\u001b[0m \u001b[0mlabel2rgb\u001b[0m\u001b[0;34m\u001b[0m\u001b[0m\n\u001b[1;32m      9\u001b[0m \u001b[0;34m\u001b[0m\u001b[0m\n\u001b[0;32m---> 10\u001b[0;31m \u001b[0mthresh\u001b[0m \u001b[0;34m=\u001b[0m \u001b[0mthreshold_otsu\u001b[0m\u001b[0;34m(\u001b[0m\u001b[0mpreprocessed_frame\u001b[0m\u001b[0;34m)\u001b[0m\u001b[0;34m\u001b[0m\u001b[0m\n\u001b[0m\u001b[1;32m     11\u001b[0m \u001b[0mbw\u001b[0m \u001b[0;34m=\u001b[0m \u001b[0mclosing\u001b[0m\u001b[0;34m(\u001b[0m\u001b[0mpreprocessed_frame\u001b[0m \u001b[0;34m>\u001b[0m \u001b[0mthresh\u001b[0m\u001b[0;34m,\u001b[0m \u001b[0mrectangle\u001b[0m\u001b[0;34m(\u001b[0m\u001b[0;36m1\u001b[0m\u001b[0;34m,\u001b[0m \u001b[0;36m1\u001b[0m\u001b[0;34m)\u001b[0m\u001b[0;34m)\u001b[0m\u001b[0;34m\u001b[0m\u001b[0m\n\u001b[1;32m     12\u001b[0m \u001b[0;34m\u001b[0m\u001b[0m\n",
      "\u001b[0;31mNameError\u001b[0m: name 'preprocessed_frame' is not defined"
     ]
    }
   ],
   "source": [
    "import matplotlib.pyplot as plt\n",
    "import matplotlib.patches as mpatches\n",
    "\n",
    "from skimage.filters import threshold_otsu\n",
    "from skimage.segmentation import clear_border\n",
    "from skimage.measure import label, regionprops\n",
    "from skimage.morphology import closing, square, rectangle\n",
    "from skimage.color import label2rgb\n",
    "\n",
    "thresh = threshold_otsu(preprocessed_frame)\n",
    "bw = closing(preprocessed_frame > thresh, rectangle(1, 1))\n",
    "\n",
    "plt.figure()\n",
    "plt.imshow(bw, cmap=\"gray\")\n",
    "\n",
    "cleared = clear_border(bw)\n",
    "\n",
    "plt.figure()\n",
    "plt.imshow(cleared, cmap=\"gray\")\n",
    "\n",
    "label_image = label(cleared)\n",
    "image_label_overlay = label2rgb(label_image, image=preprocessed_frame)\n",
    "\n",
    "fig, ax = plt.subplots(figsize=(10, 6))\n",
    "ax.imshow(image_label_overlay)\n",
    "\n",
    "for region in regionprops(label_image):\n",
    "    minr, minc, maxr, maxc = region.bbox\n",
    "    rect = mpatches.Rectangle((minc, minr), maxc - minc, maxr - minr,\n",
    "                              fill=False, edgecolor='red', linewidth=2)\n",
    "    ax.add_patch(rect)\n",
    "\n",
    "ax.set_axis_off()\n",
    "plt.tight_layout()\n",
    "plt.show()"
   ]
  },
  {
   "cell_type": "code",
   "execution_count": null,
   "metadata": {
    "collapsed": true
   },
   "outputs": [],
   "source": []
  },
  {
   "cell_type": "code",
   "execution_count": null,
   "metadata": {
    "collapsed": true
   },
   "outputs": [],
   "source": [
    "skimage.io.imshow(preprocessed_frame)"
   ]
  },
  {
   "cell_type": "code",
   "execution_count": null,
   "metadata": {
    "collapsed": true
   },
   "outputs": [],
   "source": [
    "objects = lib.ocr.detect_image_objects_closing(preprocessed_frame, window_size=1)"
   ]
  },
  {
   "cell_type": "code",
   "execution_count": null,
   "metadata": {
    "collapsed": true
   },
   "outputs": [],
   "source": [
    "image_data = lib.ocr.normalize_objects(preprocessed_frame, objects[20:29])"
   ]
  },
  {
   "cell_type": "code",
   "execution_count": null,
   "metadata": {
    "collapsed": true
   },
   "outputs": [],
   "source": [
    "skimage.io.imshow(image_data[2])"
   ]
  },
  {
   "cell_type": "code",
   "execution_count": null,
   "metadata": {
    "collapsed": true
   },
   "outputs": [],
   "source": [
    "%time\n",
    "skimage.io.imshow(clear_border(preprocessed_frame))"
   ]
  },
  {
   "cell_type": "code",
   "execution_count": null,
   "metadata": {
    "collapsed": true
   },
   "outputs": [],
   "source": [
    "import numpy as np\n",
    "from skimage import exposure\n",
    "\n",
    "from skimage.filters import threshold_otsu\n",
    "from skimage.morphology import closing, square\n",
    "\n",
    "def preprocess_image(image):\n",
    "    print(image.dtype)\n",
    "    grayscale_image = skimage.color.rgb2gray(image)\n",
    "    print(grayscale_image.dtype)\n",
    "\n",
    "    lower, higher = np.percentile(grayscale_image, (5, 95))\n",
    "    contrast_image = exposure.rescale_intensity(grayscale_image, in_range=(lower, higher))\n",
    "    \n",
    "    print(contrast_image.dtype)\n",
    "\n",
    "    threshold = threshold_otsu(contrast_image)\n",
    "    bw = closing(contrast_image > threshold, square(1))\n",
    "\n",
    "    return bw"
   ]
  },
  {
   "cell_type": "code",
   "execution_count": null,
   "metadata": {
    "collapsed": true
   },
   "outputs": [],
   "source": [
    "preprocessed_frame = preprocess_image(frame)"
   ]
  },
  {
   "cell_type": "code",
   "execution_count": null,
   "metadata": {
    "collapsed": true
   },
   "outputs": [],
   "source": []
  },
  {
   "cell_type": "code",
   "execution_count": 66,
   "metadata": {
    "scrolled": false
   },
   "outputs": [
    {
     "data": {
      "text/plain": [
       "<matplotlib.image.AxesImage at 0x7f1be910a3c8>"
      ]
     },
     "execution_count": 66,
     "metadata": {},
     "output_type": "execute_result"
    },
    {
     "data": {
      "image/png": "[encoded data removed]",
      "text/plain": [
       "<matplotlib.figure.Figure at 0x7f1beaff10f0>"
      ]
     },
     "metadata": {},
     "output_type": "display_data"
    },
    {
     "data": {
      "image/png": "[encoded data removed]",
      "text/plain": [
       "<matplotlib.figure.Figure at 0x7f1beab9ebe0>"
      ]
     },
     "metadata": {},
     "output_type": "display_data"
    },
    {
     "data": {
      "image/png": "[encoded data removed]",
      "text/plain": [
       "<matplotlib.figure.Figure at 0x7f1beab91550>"
      ]
     },
     "metadata": {},
     "output_type": "display_data"
    },
    {
     "data": {
      "image/png": "[encoded data removed]",
      "text/plain": [
       "<matplotlib.figure.Figure at 0x7f1beab26a58>"
      ]
     },
     "metadata": {},
     "output_type": "display_data"
    }
   ],
   "source": [
    "import skimage.io\n",
    "import skimage.color\n",
    "import skimage.filters\n",
    "import skimage.exposure\n",
    "import skimage.transform\n",
    "import skimage.morphology\n",
    "\n",
    "import numpy as np\n",
    "\n",
    "%matplotlib inline\n",
    "import matplotlib.pyplot as plt\n",
    "\n",
    "frame = skimage.io.imread(\"datasets/collect_frames/frame_6f863d81-84b9-4acc-a92b-5847131ce38d.png\")\n",
    "plt.figure()\n",
    "plt.imshow(frame)\n",
    "\n",
    "gray_frame = np.array(skimage.color.rgb2gray(frame) * 255, dtype=\"uint8\") # cast it back to uint8\n",
    "plt.figure()\n",
    "plt.imshow(gray_frame, cmap=\"gray\")\n",
    "\n",
    "edge_frame = sobel(skimage.color.rgb2gray(frame))\n",
    "\n",
    "plt.figure()\n",
    "plt.imshow(edge_frame, cmap=\"gray\")\n",
    "\n",
    "threshold = skimage.filters.threshold_otsu(edge_frame)\n",
    "bw_frame = skimage.morphology.closing(edge_frame > threshold, skimage.morphology.square(3))\n",
    "\n",
    "# threshold = skimage.filters.threshold_otsu(gray_frame[40:])\n",
    "# bw_frame =edge_frame > threshold\n",
    "plt.figure(figsize=(16, 10))\n",
    "plt.imshow(bw_frame, cmap=\"gray\")"
   ]
  },
  {
   "cell_type": "code",
   "execution_count": 33,
   "metadata": {},
   "outputs": [
    {
     "ename": "SyntaxError",
     "evalue": "invalid syntax (<ipython-input-33-f543d7eafd82>, line 2)",
     "output_type": "error",
     "traceback": [
      "\u001b[0;36m  File \u001b[0;32m\"<ipython-input-33-f543d7eafd82>\"\u001b[0;36m, line \u001b[0;32m2\u001b[0m\n\u001b[0;31m    image_label_overlay label_image = label(bw_frame)\u001b[0m\n\u001b[0m                                  ^\u001b[0m\n\u001b[0;31mSyntaxError\u001b[0m\u001b[0;31m:\u001b[0m invalid syntax\n"
     ]
    }
   ],
   "source": [
    "label_image = label(bw_frame)\n",
    "image_label_overlay label_image = label(bw_frame)\n",
    "image_label_overlay = label2rgb(label_image, image=bw_frame)\n",
    "\n",
    "fig, ax = plt.subplots(figsize=(10, 6))\n",
    "ax.imshow(image_label_overlay)\n",
    "\n",
    "for region in regionprops(label_image):\n",
    "    if region.area < 200:\n",
    "        minr, minc, maxr, maxc = region.bbox\n",
    "        \n",
    "        if minr > 50:\n",
    "            rect = mpatches.Rectangle((minc, minr), maxc - minc, maxr - minr,\n",
    "                                      fill=False, edgecolor='red', linewidth=2)\n",
    "            ax.add_patch(rect)= label2rgb(label_image, image=bw_frame)\n",
    "\n",
    "fig, ax = plt.subplots(figsize=(10, 6))\n",
    "ax.imshow(image_label_overlay)\n",
    "\n",
    "for region in regionprops(label_image):\n",
    "    if region.area < 200:\n",
    "        minr, minc, maxr, maxc = region.bbox\n",
    "        \n",
    "        if minr > 50:\n",
    "            rect = mpatches.Rectangle((minc, minr), maxc - minc, maxr - minr,\n",
    "                                      fill=False, edgecolor='red', linewidth=2)\n",
    "            ax.add_patch(rect)\n",
    "\n",
    "ax.set_axis_off()\n",
    "plt.tight_layout()\n",
    "plt.show()"
   ]
  },
  {
   "cell_type": "code",
   "execution_count": 2,
   "metadata": {
    "collapsed": true
   },
   "outputs": [],
   "source": [
    "center = [c // 2 for c in bw_frame.shape]"
   ]
  },
  {
   "cell_type": "code",
   "execution_count": 3,
   "metadata": {},
   "outputs": [],
   "source": [
    "def angles_to_center(points, center):\n",
    "    xs = points[1] - center[1]\n",
    "    ys = points[0] - center[0]\n",
    "    \n",
    "    return np.rad2deg(np.arctan2(xs, ys)).astype(\"int16\")"
   ]
  },
  {
   "cell_type": "code",
   "execution_count": 4,
   "metadata": {},
   "outputs": [
    {
     "name": "stdout",
     "output_type": "stream",
     "text": [
      "0\n"
     ]
    },
    {
     "data": {
      "text/plain": [
       "<matplotlib.image.AxesImage at 0x7f1bece9f518>"
      ]
     },
     "execution_count": 4,
     "metadata": {},
     "output_type": "execute_result"
    },
    {
     "data": {
      "image/png": "[encoded data removed]",
      "text/plain": [
       "<matplotlib.figure.Figure at 0x7f1c2ce5fcc0>"
      ]
     },
     "metadata": {},
     "output_type": "display_data"
    }
   ],
   "source": [
    "frame_angles = angles_to_center(np.indices(bw_frame.shape), np.array(center))\n",
    "print(frame_angles[400, center[1]])\n",
    "\n",
    "plt.imshow(frame_angles)"
   ]
  },
  {
   "cell_type": "code",
   "execution_count": 5,
   "metadata": {},
   "outputs": [
    {
     "data": {
      "text/plain": [
       "array([[-122, -122, -122, ...,  122,  122,  122],\n",
       "       [-121, -121, -122, ...,  122,  122,  121],\n",
       "       [-121, -121, -121, ...,  121,  121,  121],\n",
       "       ..., \n",
       "       [ -58,  -58,  -58, ...,   58,   58,   58],\n",
       "       [ -58,  -58,  -58, ...,   58,   58,   58],\n",
       "       [ -58,  -58,  -57, ...,   57,   57,   58]], dtype=int16)"
      ]
     },
     "execution_count": 5,
     "metadata": {},
     "output_type": "execute_result"
    }
   ],
   "source": [
    "frame_angles"
   ]
  },
  {
   "cell_type": "code",
   "execution_count": 75,
   "metadata": {
    "scrolled": true
   },
   "outputs": [
    {
     "name": "stdout",
     "output_type": "stream",
     "text": [
      "bool\n",
      "(112, 129, 113, 130)\n",
      "(113, 125, 114, 126)\n",
      "(113, 137, 114, 140)\n",
      "(115, 130, 116, 131)\n",
      "(116, 133, 117, 134)\n",
      "(116, 161, 117, 168)\n",
      "(117, 135, 118, 136)\n",
      "(118, 138, 119, 139)\n",
      "(119, 140, 120, 141)\n",
      "(120, 143, 121, 144)\n",
      "(121, 145, 122, 147)\n"
     ]
    }
   ],
   "source": [
    "from plugins.SuperHexagonGameAgentPlugin.files.helpers.frame_processing import *\n",
    "\n",
    "print(bw_frame.dtype)\n",
    "\n",
    "player_bounding_box = get_player_character_bounding_box(bw_frame, (129, 264, 366, 513))\n",
    "player_bounding_box_center = (\n",
    "    (player_bounding_box[0] + player_bounding_box[2]) // 2,\n",
    "    (player_bounding_box[1] + player_bounding_box[3]) // 2,\n",
    ")\n",
    "\n",
    "player_to_center_angle = frame_angles[player_bounding_box_center]\n",
    "\n",
    "bw_frame[frame_angles == player_to_center_angle] = 1\n",
    "bw_frame[frame_angles == player_to_center_angle + 15] = 1\n",
    "bw_frame[frame_angles == player_to_center_angle - 15] = 1"
   ]
  },
  {
   "cell_type": "code",
   "execution_count": 76,
   "metadata": {},
   "outputs": [
    {
     "data": {
      "text/plain": [
       "<matplotlib.image.AxesImage at 0x7f1beb2cefd0>"
      ]
     },
     "execution_count": 76,
     "metadata": {},
     "output_type": "execute_result"
    },
    {
     "data": {
      "image/png": "[encoded data removed]",
      "text/plain": [
       "<matplotlib.figure.Figure at 0x7f1be91739b0>"
      ]
     },
     "metadata": {},
     "output_type": "display_data"
    }
   ],
   "source": [
    "plt.imshow(bw_frame, cmap=\"gray\")"
   ]
  },
  {
   "cell_type": "code",
   "execution_count": 77,
   "metadata": {},
   "outputs": [],
   "source": [
    "skimage.io.imsave(\"test.png\", np.array(bw_frame * 255, dtype=\"uint8\"))"
   ]
  },
  {
   "cell_type": "code",
   "execution_count": null,
   "metadata": {
    "collapsed": true
   },
   "outputs": [],
   "source": []
  },
  {
   "cell_type": "code",
   "execution_count": null,
   "metadata": {
    "collapsed": true
   },
   "outputs": [],
   "source": []
  },
  {
   "cell_type": "code",
   "execution_count": null,
   "metadata": {
    "collapsed": true
   },
   "outputs": [],
   "source": []
  },
  {
   "cell_type": "code",
   "execution_count": null,
   "metadata": {
    "collapsed": true
   },
   "outputs": [],
   "source": []
  },
  {
   "cell_type": "code",
   "execution_count": null,
   "metadata": {
    "collapsed": true
   },
   "outputs": [],
   "source": []
  },
  {
   "cell_type": "code",
   "execution_count": null,
   "metadata": {
    "collapsed": true
   },
   "outputs": [],
   "source": []
  },
  {
   "cell_type": "code",
   "execution_count": null,
   "metadata": {
    "collapsed": true
   },
   "outputs": [],
   "source": []
  },
  {
   "cell_type": "code",
   "execution_count": null,
   "metadata": {
    "collapsed": true
   },
   "outputs": [],
   "source": []
  },
  {
   "cell_type": "code",
   "execution_count": null,
   "metadata": {
    "collapsed": true
   },
   "outputs": [],
   "source": []
  },
  {
   "cell_type": "code",
   "execution_count": null,
   "metadata": {
    "collapsed": true
   },
   "outputs": [],
   "source": []
  },
  {
   "cell_type": "code",
   "execution_count": null,
   "metadata": {
    "collapsed": true
   },
   "outputs": [],
   "source": []
  },
  {
   "cell_type": "code",
   "execution_count": null,
   "metadata": {
    "collapsed": true
   },
   "outputs": [],
   "source": []
  },
  {
   "cell_type": "code",
   "execution_count": null,
   "metadata": {
    "collapsed": true
   },
   "outputs": [],
   "source": []
  }
 ],
 "metadata": {
  "kernelspec": {
   "display_name": "Python 3",
   "language": "python",
   "name": "python3"
  },
  "language_info": {
   "codemirror_mode": {
    "name": "ipython",
    "version": 3
   },
   "file_extension": ".py",
   "mimetype": "text/x-python",
   "name": "python",
   "nbconvert_exporter": "python",
   "pygments_lexer": "ipython3",
   "version": "3.6.0"
  }
 },
 "nbformat": 4,
 "nbformat_minor": 2
}
